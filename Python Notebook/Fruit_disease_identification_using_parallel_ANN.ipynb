{
  "nbformat": 4,
  "nbformat_minor": 0,
  "metadata": {
    "colab": {
      "provenance": [],
      "gpuType": "T4"
    },
    "kernelspec": {
      "name": "python3",
      "display_name": "Python 3"
    },
    "language_info": {
      "name": "python"
    },
    "accelerator": "GPU"
  },
  "cells": [
    {
      "cell_type": "markdown",
      "source": [
        "**FRUIT DISEASE IDENTIFICATION USING PARALLELIZED ANN**"
      ],
      "metadata": {
        "id": "LGGbEJyctDvm"
      }
    },
    {
      "cell_type": "markdown",
      "source": [
        "Mount drive"
      ],
      "metadata": {
        "id": "zQ5X94APtNOf"
      }
    },
    {
      "cell_type": "code",
      "execution_count": null,
      "metadata": {
        "colab": {
          "base_uri": "https://localhost:8080/"
        },
        "id": "YdBm21oPcnby",
        "outputId": "d2bbb5b7-3df8-40d5-e68e-a320565d2550"
      },
      "outputs": [
        {
          "output_type": "stream",
          "name": "stdout",
          "text": [
            "Mounted at /content/drive\n"
          ]
        }
      ],
      "source": [
        "from google.colab import drive\n",
        "drive.mount('/content/drive')"
      ]
    },
    {
      "cell_type": "markdown",
      "source": [
        "Main code"
      ],
      "metadata": {
        "id": "qha5MLjbtkmX"
      }
    },
    {
      "cell_type": "code",
      "source": [
        "import time\n",
        "import tensorflow as tf\n",
        "from tensorflow.keras.models import Sequential\n",
        "from tensorflow.keras.layers import Dense, Flatten, Dropout, Input\n",
        "from tensorflow.keras.preprocessing.image import ImageDataGenerator\n",
        "from tensorflow.keras.callbacks import ModelCheckpoint\n",
        "import os\n",
        "from google.colab import files\n",
        "\n",
        "# Directory paths for the dataset\n",
        "train_dir = '/content/drive/MyDrive/DATA SET/train'\n",
        "test_dir = '/content/drive/MyDrive/DATA SET/test'\n",
        "\n",
        "# Parameters\n",
        "batch_size = 64  # Batch size\n",
        "img_height = 128\n",
        "img_width = 128\n",
        "num_classes = 6  # Number of output classes\n",
        "\n",
        "# Function to create the ANN model\n",
        "def create_ann_model():\n",
        "    model = Sequential([\n",
        "        Input(shape=(img_height, img_width, 3)),   # Input shape for 3D image data (128, 128, 3)\n",
        "        Flatten(),                                 # Flatten layer to convert 3D input to 1D\n",
        "        Dense(512, activation='relu'),             # First dense layer\n",
        "        Dropout(0.5),                              # Dropout for regularization\n",
        "        Dense(256, activation='relu'),             # Second dense layer\n",
        "        Dropout(0.5),                              # Dropout for regularization\n",
        "        Dense(128, activation='relu'),             # Third dense layer\n",
        "        Dense(num_classes, activation='softmax')   # Output layer for classification\n",
        "    ])\n",
        "    return model\n",
        "\n",
        "# Data loading function with parallel data loading enabled\n",
        "def load_data(workers=1, use_multiprocessing=False):\n",
        "    # Use data augmentation\n",
        "    train_datagen = ImageDataGenerator(rescale=1./255, rotation_range=40,\n",
        "                                       width_shift_range=0.2, height_shift_range=0.2,\n",
        "                                       shear_range=0.2, zoom_range=0.2, horizontal_flip=True)\n",
        "    test_datagen = ImageDataGenerator(rescale=1./255)\n",
        "\n",
        "    train_data = train_datagen.flow_from_directory(\n",
        "        train_dir, target_size=(img_height, img_width), batch_size=batch_size, class_mode='categorical')\n",
        "    test_data = test_datagen.flow_from_directory(\n",
        "        test_dir, target_size=(img_height, img_width), batch_size=batch_size, class_mode='categorical')\n",
        "\n",
        "    return train_data, test_data\n",
        "\n",
        "# Function to train model, measure time, and get accuracies\n",
        "def train_model(train_data, test_data, intra_threads, inter_threads, model_save_path):\n",
        "    # Set environment variables for threading\n",
        "    os.environ[\"TF_NUM_INTRAOP_THREADS\"] = str(intra_threads)\n",
        "    os.environ[\"TF_NUM_INTEROP_THREADS\"] = str(inter_threads)\n",
        "\n",
        "    # Initialize and compile the model\n",
        "    model = create_ann_model()\n",
        "    model.compile(optimizer='adam', loss='categorical_crossentropy', metrics=['accuracy'])\n",
        "\n",
        "    # Set up model checkpoint to save the model\n",
        "    checkpoint = ModelCheckpoint(model_save_path, monitor='val_accuracy', save_best_only=True, mode='max', verbose=1)\n",
        "\n",
        "    # Start timer and train the model\n",
        "    start_time = time.time()\n",
        "    history = model.fit(train_data, epochs=20, validation_data=test_data, callbacks=[checkpoint])  # Increase epochs if needed\n",
        "    end_time = time.time()\n",
        "\n",
        "    # Calculate training duration\n",
        "    duration = end_time - start_time\n",
        "    print(f\"Training completed in {duration:.2f} seconds with {intra_threads} intra-op threads and {inter_threads} inter-op threads.\")\n",
        "\n",
        "    # Evaluate model on training and test data\n",
        "    train_loss, train_accuracy = model.evaluate(train_data, verbose=1)\n",
        "    test_loss, test_accuracy = model.evaluate(test_data, verbose=1)\n",
        "\n",
        "    return duration, train_accuracy, test_accuracy, model, history  # Returns 5 values\n",
        "\n",
        "# Load data with parallel data loading enabled\n",
        "train_data, test_data = load_data(workers=4, use_multiprocessing=True)\n",
        "\n",
        "# Run two configurations: simulating serial-like and parallel-like settings\n",
        "print(\"Running with lower intra and inter-op threads (serial-like configuration):\")\n",
        "serial_time, serial_train_accuracy, serial_test_accuracy, serial_model, serial_history = train_model(\n",
        "    train_data, test_data, intra_threads=1, inter_threads=1, model_save_path=\"model_serial.keras\"\n",
        ")\n",
        "\n",
        "print(\"\\nRunning with higher intra and inter-op threads (parallel-like configuration):\")\n",
        "parallel_time, parallel_train_accuracy, parallel_test_accuracy, parallel_model, parallel_history = train_model(\n",
        "    train_data, test_data, intra_threads=4, inter_threads=2, model_save_path=\"model_parallel.keras\"\n",
        ")\n",
        "\n",
        "# Save both models as H5 files\n",
        "serial_model.save(\"papaya_disease_prediction_serial.h5\")\n",
        "parallel_model.save(\"papaya_disease_prediction_parallel.h5\")\n",
        "\n",
        "# Download model files\n",
        "files.download(\"papaya_disease_prediction_serial.h5\")\n",
        "files.download(\"papaya_disease_prediction_parallel.h5\")\n",
        "files.download(\"model_serial.keras\")\n",
        "files.download(\"model_parallel.keras\")\n",
        "\n",
        "# Display comparison\n",
        "print(f\"\\nTime taken in 'serial' configuration: {serial_time:.2f} seconds\")\n",
        "print(f\"\\nTime taken in 'parallel' configuration: {parallel_time:.2f} seconds\")\n",
        "\n",
        "if parallel_time < serial_time:\n",
        "    print(\"Parallel execution was faster than serial execution.\")\n",
        "    speedup = serial_time / parallel_time\n",
        "    efficiency = (speedup / 2) * 100  # Assuming 2 threads for parallel\n",
        "    print(f\"\\nSpeedup: {speedup:.2f}x\")\n",
        "    print(f\"Efficiency: {efficiency:.2f}%\")\n",
        "else:\n",
        "    print(\"Serial execution was faster than parallel execution.\")\n"
      ],
      "metadata": {
        "colab": {
          "base_uri": "https://localhost:8080/",
          "height": 1000
        },
        "id": "_dkhIcVBwsig",
        "outputId": "71ff101a-f5c8-4ed8-c25c-846f703be779"
      },
      "execution_count": null,
      "outputs": [
        {
          "output_type": "stream",
          "name": "stdout",
          "text": [
            "Found 3900 images belonging to 6 classes.\n",
            "Found 600 images belonging to 6 classes.\n",
            "Running with lower intra and inter-op threads (serial-like configuration):\n",
            "Epoch 1/20\n",
            "\u001b[1m58/61\u001b[0m \u001b[32m━━━━━━━━━━━━━━━━━━━\u001b[0m\u001b[37m━\u001b[0m \u001b[1m13s\u001b[0m 4s/step - accuracy: 0.1605 - loss: 11.3873\n",
            "Epoch 1: val_accuracy improved from -inf to 0.16667, saving model to model_serial.keras\n",
            "\u001b[1m61/61\u001b[0m \u001b[32m━━━━━━━━━━━━━━━━━━━━\u001b[0m\u001b[37m\u001b[0m \u001b[1m512s\u001b[0m 8s/step - accuracy: 0.1605 - loss: 11.0567 - val_accuracy: 0.1667 - val_loss: 1.7917\n",
            "Epoch 2/20\n",
            "\u001b[1m58/61\u001b[0m \u001b[32m━━━━━━━━━━━━━━━━━━━\u001b[0m\u001b[37m━\u001b[0m \u001b[1m1s\u001b[0m 531ms/step - accuracy: 0.1724 - loss: 1.7930\n",
            "Epoch 2: val_accuracy did not improve from 0.16667\n",
            "\u001b[1m61/61\u001b[0m \u001b[32m━━━━━━━━━━━━━━━━━━━━\u001b[0m\u001b[37m\u001b[0m \u001b[1m90s\u001b[0m 590ms/step - accuracy: 0.1721 - loss: 1.7930 - val_accuracy: 0.1667 - val_loss: 1.7918\n",
            "Epoch 3/20\n",
            "\u001b[1m59/61\u001b[0m \u001b[32m━━━━━━━━━━━━━━━━━━━\u001b[0m\u001b[37m━\u001b[0m \u001b[1m1s\u001b[0m 524ms/step - accuracy: 0.1607 - loss: 1.7916\n",
            "Epoch 3: val_accuracy did not improve from 0.16667\n",
            "\u001b[1m61/61\u001b[0m \u001b[32m━━━━━━━━━━━━━━━━━━━━\u001b[0m\u001b[37m\u001b[0m \u001b[1m40s\u001b[0m 593ms/step - accuracy: 0.1606 - loss: 1.7916 - val_accuracy: 0.1667 - val_loss: 1.7920\n",
            "Epoch 4/20\n",
            "\u001b[1m59/61\u001b[0m \u001b[32m━━━━━━━━━━━━━━━━━━━\u001b[0m\u001b[37m━\u001b[0m \u001b[1m1s\u001b[0m 529ms/step - accuracy: 0.1569 - loss: 1.7919\n",
            "Epoch 4: val_accuracy did not improve from 0.16667\n",
            "\u001b[1m61/61\u001b[0m \u001b[32m━━━━━━━━━━━━━━━━━━━━\u001b[0m\u001b[37m\u001b[0m \u001b[1m41s\u001b[0m 597ms/step - accuracy: 0.1570 - loss: 1.7919 - val_accuracy: 0.1667 - val_loss: 1.7918\n",
            "Epoch 5/20\n",
            "\u001b[1m59/61\u001b[0m \u001b[32m━━━━━━━━━━━━━━━━━━━\u001b[0m\u001b[37m━\u001b[0m \u001b[1m1s\u001b[0m 523ms/step - accuracy: 0.1539 - loss: 1.7918\n",
            "Epoch 5: val_accuracy did not improve from 0.16667\n",
            "\u001b[1m61/61\u001b[0m \u001b[32m━━━━━━━━━━━━━━━━━━━━\u001b[0m\u001b[37m\u001b[0m \u001b[1m41s\u001b[0m 591ms/step - accuracy: 0.1542 - loss: 1.7918 - val_accuracy: 0.1667 - val_loss: 1.7917\n",
            "Epoch 6/20\n",
            "\u001b[1m59/61\u001b[0m \u001b[32m━━━━━━━━━━━━━━━━━━━\u001b[0m\u001b[37m━\u001b[0m \u001b[1m1s\u001b[0m 515ms/step - accuracy: 0.1670 - loss: 1.7921\n",
            "Epoch 6: val_accuracy did not improve from 0.16667\n",
            "\u001b[1m61/61\u001b[0m \u001b[32m━━━━━━━━━━━━━━━━━━━━\u001b[0m\u001b[37m\u001b[0m \u001b[1m39s\u001b[0m 584ms/step - accuracy: 0.1667 - loss: 1.7921 - val_accuracy: 0.1667 - val_loss: 1.7918\n",
            "Epoch 7/20\n",
            "\u001b[1m59/61\u001b[0m \u001b[32m━━━━━━━━━━━━━━━━━━━\u001b[0m\u001b[37m━\u001b[0m \u001b[1m1s\u001b[0m 517ms/step - accuracy: 0.1624 - loss: 1.7915\n",
            "Epoch 7: val_accuracy did not improve from 0.16667\n",
            "\u001b[1m61/61\u001b[0m \u001b[32m━━━━━━━━━━━━━━━━━━━━\u001b[0m\u001b[37m\u001b[0m \u001b[1m39s\u001b[0m 585ms/step - accuracy: 0.1621 - loss: 1.7915 - val_accuracy: 0.1667 - val_loss: 1.7918\n",
            "Epoch 8/20\n",
            "\u001b[1m59/61\u001b[0m \u001b[32m━━━━━━━━━━━━━━━━━━━\u001b[0m\u001b[37m━\u001b[0m \u001b[1m1s\u001b[0m 513ms/step - accuracy: 0.1669 - loss: 1.7918\n",
            "Epoch 8: val_accuracy did not improve from 0.16667\n",
            "\u001b[1m61/61\u001b[0m \u001b[32m━━━━━━━━━━━━━━━━━━━━\u001b[0m\u001b[37m\u001b[0m \u001b[1m37s\u001b[0m 543ms/step - accuracy: 0.1666 - loss: 1.7918 - val_accuracy: 0.1667 - val_loss: 1.7918\n",
            "Epoch 9/20\n",
            "\u001b[1m59/61\u001b[0m \u001b[32m━━━━━━━━━━━━━━━━━━━\u001b[0m\u001b[37m━\u001b[0m \u001b[1m1s\u001b[0m 520ms/step - accuracy: 0.1598 - loss: 1.7918\n",
            "Epoch 9: val_accuracy did not improve from 0.16667\n",
            "\u001b[1m61/61\u001b[0m \u001b[32m━━━━━━━━━━━━━━━━━━━━\u001b[0m\u001b[37m\u001b[0m \u001b[1m38s\u001b[0m 552ms/step - accuracy: 0.1597 - loss: 1.7918 - val_accuracy: 0.1667 - val_loss: 1.7918\n",
            "Epoch 10/20\n",
            "\u001b[1m59/61\u001b[0m \u001b[32m━━━━━━━━━━━━━━━━━━━\u001b[0m\u001b[37m━\u001b[0m \u001b[1m1s\u001b[0m 527ms/step - accuracy: 0.1545 - loss: 1.7919\n",
            "Epoch 10: val_accuracy did not improve from 0.16667\n",
            "\u001b[1m61/61\u001b[0m \u001b[32m━━━━━━━━━━━━━━━━━━━━\u001b[0m\u001b[37m\u001b[0m \u001b[1m41s\u001b[0m 557ms/step - accuracy: 0.1545 - loss: 1.7919 - val_accuracy: 0.1667 - val_loss: 1.7918\n",
            "Epoch 11/20\n",
            "\u001b[1m59/61\u001b[0m \u001b[32m━━━━━━━━━━━━━━━━━━━\u001b[0m\u001b[37m━\u001b[0m \u001b[1m1s\u001b[0m 544ms/step - accuracy: 0.1675 - loss: 1.7923\n",
            "Epoch 11: val_accuracy did not improve from 0.16667\n",
            "\u001b[1m61/61\u001b[0m \u001b[32m━━━━━━━━━━━━━━━━━━━━\u001b[0m\u001b[37m\u001b[0m \u001b[1m39s\u001b[0m 575ms/step - accuracy: 0.1671 - loss: 1.7923 - val_accuracy: 0.1667 - val_loss: 1.7918\n",
            "Epoch 12/20\n",
            "\u001b[1m59/61\u001b[0m \u001b[32m━━━━━━━━━━━━━━━━━━━\u001b[0m\u001b[37m━\u001b[0m \u001b[1m1s\u001b[0m 522ms/step - accuracy: 0.1770 - loss: 1.8122\n",
            "Epoch 12: val_accuracy did not improve from 0.16667\n",
            "\u001b[1m61/61\u001b[0m \u001b[32m━━━━━━━━━━━━━━━━━━━━\u001b[0m\u001b[37m\u001b[0m \u001b[1m38s\u001b[0m 560ms/step - accuracy: 0.1766 - loss: 1.8118 - val_accuracy: 0.1667 - val_loss: 1.7918\n",
            "Epoch 13/20\n",
            "\u001b[1m59/61\u001b[0m \u001b[32m━━━━━━━━━━━━━━━━━━━\u001b[0m\u001b[37m━\u001b[0m \u001b[1m1s\u001b[0m 514ms/step - accuracy: 0.1693 - loss: 1.7918\n",
            "Epoch 13: val_accuracy did not improve from 0.16667\n",
            "\u001b[1m61/61\u001b[0m \u001b[32m━━━━━━━━━━━━━━━━━━━━\u001b[0m\u001b[37m\u001b[0m \u001b[1m39s\u001b[0m 582ms/step - accuracy: 0.1688 - loss: 1.7918 - val_accuracy: 0.1667 - val_loss: 1.7918\n",
            "Epoch 14/20\n",
            "\u001b[1m59/61\u001b[0m \u001b[32m━━━━━━━━━━━━━━━━━━━\u001b[0m\u001b[37m━\u001b[0m \u001b[1m1s\u001b[0m 523ms/step - accuracy: 0.1674 - loss: 1.7919\n",
            "Epoch 14: val_accuracy did not improve from 0.16667\n",
            "\u001b[1m61/61\u001b[0m \u001b[32m━━━━━━━━━━━━━━━━━━━━\u001b[0m\u001b[37m\u001b[0m \u001b[1m40s\u001b[0m 592ms/step - accuracy: 0.1672 - loss: 1.7919 - val_accuracy: 0.1667 - val_loss: 1.7918\n",
            "Epoch 15/20\n",
            "\u001b[1m59/61\u001b[0m \u001b[32m━━━━━━━━━━━━━━━━━━━\u001b[0m\u001b[37m━\u001b[0m \u001b[1m1s\u001b[0m 518ms/step - accuracy: 0.1455 - loss: 1.7920\n",
            "Epoch 15: val_accuracy did not improve from 0.16667\n",
            "\u001b[1m61/61\u001b[0m \u001b[32m━━━━━━━━━━━━━━━━━━━━\u001b[0m\u001b[37m\u001b[0m \u001b[1m41s\u001b[0m 587ms/step - accuracy: 0.1454 - loss: 1.7920 - val_accuracy: 0.1667 - val_loss: 1.7918\n",
            "Epoch 16/20\n",
            "\u001b[1m59/61\u001b[0m \u001b[32m━━━━━━━━━━━━━━━━━━━\u001b[0m\u001b[37m━\u001b[0m \u001b[1m1s\u001b[0m 522ms/step - accuracy: 0.1679 - loss: 1.7919\n",
            "Epoch 16: val_accuracy did not improve from 0.16667\n",
            "\u001b[1m61/61\u001b[0m \u001b[32m━━━━━━━━━━━━━━━━━━━━\u001b[0m\u001b[37m\u001b[0m \u001b[1m40s\u001b[0m 563ms/step - accuracy: 0.1676 - loss: 1.7919 - val_accuracy: 0.1667 - val_loss: 1.7918\n",
            "Epoch 17/20\n",
            "\u001b[1m59/61\u001b[0m \u001b[32m━━━━━━━━━━━━━━━━━━━\u001b[0m\u001b[37m━\u001b[0m \u001b[1m1s\u001b[0m 523ms/step - accuracy: 0.1632 - loss: 1.7918\n",
            "Epoch 17: val_accuracy did not improve from 0.16667\n",
            "\u001b[1m61/61\u001b[0m \u001b[32m━━━━━━━━━━━━━━━━━━━━\u001b[0m\u001b[37m\u001b[0m \u001b[1m38s\u001b[0m 554ms/step - accuracy: 0.1629 - loss: 1.7918 - val_accuracy: 0.1667 - val_loss: 1.7918\n",
            "Epoch 18/20\n",
            "\u001b[1m59/61\u001b[0m \u001b[32m━━━━━━━━━━━━━━━━━━━\u001b[0m\u001b[37m━\u001b[0m \u001b[1m1s\u001b[0m 522ms/step - accuracy: 0.1747 - loss: 1.7918\n",
            "Epoch 18: val_accuracy did not improve from 0.16667\n",
            "\u001b[1m61/61\u001b[0m \u001b[32m━━━━━━━━━━━━━━━━━━━━\u001b[0m\u001b[37m\u001b[0m \u001b[1m41s\u001b[0m 590ms/step - accuracy: 0.1739 - loss: 1.7918 - val_accuracy: 0.1667 - val_loss: 1.7918\n",
            "Epoch 19/20\n",
            "\u001b[1m59/61\u001b[0m \u001b[32m━━━━━━━━━━━━━━━━━━━\u001b[0m\u001b[37m━\u001b[0m \u001b[1m1s\u001b[0m 526ms/step - accuracy: 0.1665 - loss: 1.7918\n",
            "Epoch 19: val_accuracy did not improve from 0.16667\n",
            "\u001b[1m61/61\u001b[0m \u001b[32m━━━━━━━━━━━━━━━━━━━━\u001b[0m\u001b[37m\u001b[0m \u001b[1m39s\u001b[0m 558ms/step - accuracy: 0.1662 - loss: 1.7918 - val_accuracy: 0.1667 - val_loss: 1.7918\n",
            "Epoch 20/20\n",
            "\u001b[1m59/61\u001b[0m \u001b[32m━━━━━━━━━━━━━━━━━━━\u001b[0m\u001b[37m━\u001b[0m \u001b[1m1s\u001b[0m 540ms/step - accuracy: 0.1630 - loss: 1.7918\n",
            "Epoch 20: val_accuracy did not improve from 0.16667\n",
            "\u001b[1m61/61\u001b[0m \u001b[32m━━━━━━━━━━━━━━━━━━━━\u001b[0m\u001b[37m\u001b[0m \u001b[1m38s\u001b[0m 571ms/step - accuracy: 0.1627 - loss: 1.7918 - val_accuracy: 0.1667 - val_loss: 1.7918\n",
            "Training completed in 1326.76 seconds with 1 intra-op threads and 1 inter-op threads.\n",
            "\u001b[1m61/61\u001b[0m \u001b[32m━━━━━━━━━━━━━━━━━━━━\u001b[0m\u001b[37m\u001b[0m \u001b[1m35s\u001b[0m 582ms/step - accuracy: 0.1751 - loss: 1.7917\n",
            "\u001b[1m10/10\u001b[0m \u001b[32m━━━━━━━━━━━━━━━━━━━━\u001b[0m\u001b[37m\u001b[0m \u001b[1m3s\u001b[0m 290ms/step - accuracy: 0.1572 - loss: 1.7918\n",
            "\n",
            "Running with higher intra and inter-op threads (parallel-like configuration):\n",
            "Epoch 1/20\n",
            "\u001b[1m57/61\u001b[0m \u001b[32m━━━━━━━━━━━━━━━━━━\u001b[0m\u001b[37m━━\u001b[0m \u001b[1m2s\u001b[0m 550ms/step - accuracy: 0.1718 - loss: 12.0159\n",
            "Epoch 1: val_accuracy improved from -inf to 0.17500, saving model to model_parallel.keras\n",
            "\u001b[1m61/61\u001b[0m \u001b[32m━━━━━━━━━━━━━━━━━━━━\u001b[0m\u001b[37m\u001b[0m \u001b[1m45s\u001b[0m 622ms/step - accuracy: 0.1711 - loss: 11.5885 - val_accuracy: 0.1750 - val_loss: 1.7811\n",
            "Epoch 2/20\n",
            "\u001b[1m59/61\u001b[0m \u001b[32m━━━━━━━━━━━━━━━━━━━\u001b[0m\u001b[37m━\u001b[0m \u001b[1m1s\u001b[0m 510ms/step - accuracy: 0.1531 - loss: 1.7937\n",
            "Epoch 2: val_accuracy did not improve from 0.17500\n",
            "\u001b[1m61/61\u001b[0m \u001b[32m━━━━━━━━━━━━━━━━━━━━\u001b[0m\u001b[37m\u001b[0m \u001b[1m74s\u001b[0m 541ms/step - accuracy: 0.1530 - loss: 1.7937 - val_accuracy: 0.1717 - val_loss: 1.7914\n",
            "Epoch 3/20\n",
            "\u001b[1m59/61\u001b[0m \u001b[32m━━━━━━━━━━━━━━━━━━━\u001b[0m\u001b[37m━\u001b[0m \u001b[1m1s\u001b[0m 513ms/step - accuracy: 0.1632 - loss: 1.8167\n",
            "Epoch 3: val_accuracy did not improve from 0.17500\n",
            "\u001b[1m61/61\u001b[0m \u001b[32m━━━━━━━━━━━━━━━━━━━━\u001b[0m\u001b[37m\u001b[0m \u001b[1m38s\u001b[0m 545ms/step - accuracy: 0.1629 - loss: 1.8159 - val_accuracy: 0.1683 - val_loss: 1.7849\n",
            "Epoch 4/20\n",
            "\u001b[1m58/61\u001b[0m \u001b[32m━━━━━━━━━━━━━━━━━━━\u001b[0m\u001b[37m━\u001b[0m \u001b[1m1s\u001b[0m 538ms/step - accuracy: 0.1692 - loss: 1.7969\n",
            "Epoch 4: val_accuracy did not improve from 0.17500\n",
            "\u001b[1m61/61\u001b[0m \u001b[32m━━━━━━━━━━━━━━━━━━━━\u001b[0m\u001b[37m\u001b[0m \u001b[1m38s\u001b[0m 564ms/step - accuracy: 0.1688 - loss: 1.7967 - val_accuracy: 0.1650 - val_loss: 1.7920\n",
            "Epoch 5/20\n",
            "\u001b[1m58/61\u001b[0m \u001b[32m━━━━━━━━━━━━━━━━━━━\u001b[0m\u001b[37m━\u001b[0m \u001b[1m1s\u001b[0m 539ms/step - accuracy: 0.1726 - loss: 1.7918\n",
            "Epoch 5: val_accuracy did not improve from 0.17500\n",
            "\u001b[1m61/61\u001b[0m \u001b[32m━━━━━━━━━━━━━━━━━━━━\u001b[0m\u001b[37m\u001b[0m \u001b[1m41s\u001b[0m 565ms/step - accuracy: 0.1727 - loss: 1.7919 - val_accuracy: 0.1667 - val_loss: 1.7918\n",
            "Epoch 6/20\n",
            "\u001b[1m59/61\u001b[0m \u001b[32m━━━━━━━━━━━━━━━━━━━\u001b[0m\u001b[37m━\u001b[0m \u001b[1m1s\u001b[0m 511ms/step - accuracy: 0.1592 - loss: 1.7943\n",
            "Epoch 6: val_accuracy did not improve from 0.17500\n",
            "\u001b[1m61/61\u001b[0m \u001b[32m━━━━━━━━━━━━━━━━━━━━\u001b[0m\u001b[37m\u001b[0m \u001b[1m39s\u001b[0m 579ms/step - accuracy: 0.1594 - loss: 1.7943 - val_accuracy: 0.1717 - val_loss: 1.7920\n",
            "Epoch 7/20\n",
            "\u001b[1m59/61\u001b[0m \u001b[32m━━━━━━━━━━━━━━━━━━━\u001b[0m\u001b[37m━\u001b[0m \u001b[1m1s\u001b[0m 513ms/step - accuracy: 0.1739 - loss: 1.7917\n",
            "Epoch 7: val_accuracy did not improve from 0.17500\n",
            "\u001b[1m61/61\u001b[0m \u001b[32m━━━━━━━━━━━━━━━━━━━━\u001b[0m\u001b[37m\u001b[0m \u001b[1m41s\u001b[0m 582ms/step - accuracy: 0.1735 - loss: 1.7917 - val_accuracy: 0.1733 - val_loss: 1.7914\n",
            "Epoch 8/20\n",
            "\u001b[1m59/61\u001b[0m \u001b[32m━━━━━━━━━━━━━━━━━━━\u001b[0m\u001b[37m━\u001b[0m \u001b[1m1s\u001b[0m 514ms/step - accuracy: 0.1752 - loss: 1.8185\n",
            "Epoch 8: val_accuracy improved from 0.17500 to 0.19833, saving model to model_parallel.keras\n",
            "\u001b[1m61/61\u001b[0m \u001b[32m━━━━━━━━━━━━━━━━━━━━\u001b[0m\u001b[37m\u001b[0m \u001b[1m43s\u001b[0m 620ms/step - accuracy: 0.1753 - loss: 1.8178 - val_accuracy: 0.1983 - val_loss: 1.7892\n",
            "Epoch 9/20\n",
            "\u001b[1m58/61\u001b[0m \u001b[32m━━━━━━━━━━━━━━━━━━━\u001b[0m\u001b[37m━\u001b[0m \u001b[1m1s\u001b[0m 534ms/step - accuracy: 0.1653 - loss: 1.7901\n",
            "Epoch 9: val_accuracy did not improve from 0.19833\n",
            "\u001b[1m61/61\u001b[0m \u001b[32m━━━━━━━━━━━━━━━━━━━━\u001b[0m\u001b[37m\u001b[0m \u001b[1m38s\u001b[0m 564ms/step - accuracy: 0.1652 - loss: 1.7902 - val_accuracy: 0.1667 - val_loss: 1.7918\n",
            "Epoch 10/20\n",
            "\u001b[1m58/61\u001b[0m \u001b[32m━━━━━━━━━━━━━━━━━━━\u001b[0m\u001b[37m━\u001b[0m \u001b[1m1s\u001b[0m 529ms/step - accuracy: 0.1694 - loss: 1.7919\n",
            "Epoch 10: val_accuracy did not improve from 0.19833\n",
            "\u001b[1m61/61\u001b[0m \u001b[32m━━━━━━━━━━━━━━━━━━━━\u001b[0m\u001b[37m\u001b[0m \u001b[1m40s\u001b[0m 562ms/step - accuracy: 0.1687 - loss: 1.7919 - val_accuracy: 0.1667 - val_loss: 1.7918\n",
            "Epoch 11/20\n",
            "\u001b[1m59/61\u001b[0m \u001b[32m━━━━━━━━━━━━━━━━━━━\u001b[0m\u001b[37m━\u001b[0m \u001b[1m1s\u001b[0m 521ms/step - accuracy: 0.1589 - loss: 1.7918\n",
            "Epoch 11: val_accuracy did not improve from 0.19833\n",
            "\u001b[1m61/61\u001b[0m \u001b[32m━━━━━━━━━━━━━━━━━━━━\u001b[0m\u001b[37m\u001b[0m \u001b[1m40s\u001b[0m 590ms/step - accuracy: 0.1590 - loss: 1.7918 - val_accuracy: 0.1667 - val_loss: 1.7918\n",
            "Epoch 12/20\n",
            "\u001b[1m59/61\u001b[0m \u001b[32m━━━━━━━━━━━━━━━━━━━\u001b[0m\u001b[37m━\u001b[0m \u001b[1m1s\u001b[0m 522ms/step - accuracy: 0.1677 - loss: 1.7918\n",
            "Epoch 12: val_accuracy did not improve from 0.19833\n",
            "\u001b[1m61/61\u001b[0m \u001b[32m━━━━━━━━━━━━━━━━━━━━\u001b[0m\u001b[37m\u001b[0m \u001b[1m39s\u001b[0m 590ms/step - accuracy: 0.1674 - loss: 1.7918 - val_accuracy: 0.1667 - val_loss: 1.7918\n",
            "Epoch 13/20\n",
            "\u001b[1m59/61\u001b[0m \u001b[32m━━━━━━━━━━━━━━━━━━━\u001b[0m\u001b[37m━\u001b[0m \u001b[1m1s\u001b[0m 519ms/step - accuracy: 0.1631 - loss: 1.7919\n",
            "Epoch 13: val_accuracy did not improve from 0.19833\n",
            "\u001b[1m61/61\u001b[0m \u001b[32m━━━━━━━━━━━━━━━━━━━━\u001b[0m\u001b[37m\u001b[0m \u001b[1m37s\u001b[0m 550ms/step - accuracy: 0.1627 - loss: 1.7919 - val_accuracy: 0.1667 - val_loss: 1.7918\n",
            "Epoch 14/20\n",
            "\u001b[1m59/61\u001b[0m \u001b[32m━━━━━━━━━━━━━━━━━━━\u001b[0m\u001b[37m━\u001b[0m \u001b[1m1s\u001b[0m 524ms/step - accuracy: 0.1602 - loss: 1.7918\n",
            "Epoch 14: val_accuracy did not improve from 0.19833\n",
            "\u001b[1m61/61\u001b[0m \u001b[32m━━━━━━━━━━━━━━━━━━━━\u001b[0m\u001b[37m\u001b[0m \u001b[1m39s\u001b[0m 556ms/step - accuracy: 0.1600 - loss: 1.7918 - val_accuracy: 0.1667 - val_loss: 1.7918\n",
            "Epoch 15/20\n",
            "\u001b[1m59/61\u001b[0m \u001b[32m━━━━━━━━━━━━━━━━━━━\u001b[0m\u001b[37m━\u001b[0m \u001b[1m1s\u001b[0m 524ms/step - accuracy: 0.1644 - loss: 1.7952\n",
            "Epoch 15: val_accuracy did not improve from 0.19833\n",
            "\u001b[1m61/61\u001b[0m \u001b[32m━━━━━━━━━━━━━━━━━━━━\u001b[0m\u001b[37m\u001b[0m \u001b[1m41s\u001b[0m 557ms/step - accuracy: 0.1643 - loss: 1.7955 - val_accuracy: 0.1667 - val_loss: 1.7918\n",
            "Epoch 16/20\n",
            "\u001b[1m59/61\u001b[0m \u001b[32m━━━━━━━━━━━━━━━━━━━\u001b[0m\u001b[37m━\u001b[0m \u001b[1m1s\u001b[0m 518ms/step - accuracy: 0.1568 - loss: 1.7919\n",
            "Epoch 16: val_accuracy did not improve from 0.19833\n",
            "\u001b[1m61/61\u001b[0m \u001b[32m━━━━━━━━━━━━━━━━━━━━\u001b[0m\u001b[37m\u001b[0m \u001b[1m41s\u001b[0m 550ms/step - accuracy: 0.1570 - loss: 1.7919 - val_accuracy: 0.1667 - val_loss: 1.7918\n",
            "Epoch 17/20\n",
            "\u001b[1m59/61\u001b[0m \u001b[32m━━━━━━━━━━━━━━━━━━━\u001b[0m\u001b[37m━\u001b[0m \u001b[1m1s\u001b[0m 523ms/step - accuracy: 0.1637 - loss: 1.7923\n",
            "Epoch 17: val_accuracy did not improve from 0.19833\n",
            "\u001b[1m61/61\u001b[0m \u001b[32m━━━━━━━━━━━━━━━━━━━━\u001b[0m\u001b[37m\u001b[0m \u001b[1m41s\u001b[0m 555ms/step - accuracy: 0.1634 - loss: 1.7928 - val_accuracy: 0.1667 - val_loss: 1.7918\n",
            "Epoch 18/20\n",
            "\u001b[1m59/61\u001b[0m \u001b[32m━━━━━━━━━━━━━━━━━━━\u001b[0m\u001b[37m━\u001b[0m \u001b[1m1s\u001b[0m 539ms/step - accuracy: 0.1637 - loss: 1.7919\n",
            "Epoch 18: val_accuracy did not improve from 0.19833\n",
            "\u001b[1m61/61\u001b[0m \u001b[32m━━━━━━━━━━━━━━━━━━━━\u001b[0m\u001b[37m\u001b[0m \u001b[1m38s\u001b[0m 568ms/step - accuracy: 0.1635 - loss: 1.7919 - val_accuracy: 0.1667 - val_loss: 1.7918\n",
            "Epoch 19/20\n",
            "\u001b[1m58/61\u001b[0m \u001b[32m━━━━━━━━━━━━━━━━━━━\u001b[0m\u001b[37m━\u001b[0m \u001b[1m1s\u001b[0m 541ms/step - accuracy: 0.1618 - loss: 1.7920\n",
            "Epoch 19: val_accuracy did not improve from 0.19833\n",
            "\u001b[1m61/61\u001b[0m \u001b[32m━━━━━━━━━━━━━━━━━━━━\u001b[0m\u001b[37m\u001b[0m \u001b[1m41s\u001b[0m 565ms/step - accuracy: 0.1614 - loss: 1.7920 - val_accuracy: 0.1667 - val_loss: 1.7918\n",
            "Epoch 20/20\n",
            "\u001b[1m59/61\u001b[0m \u001b[32m━━━━━━━━━━━━━━━━━━━\u001b[0m\u001b[37m━\u001b[0m \u001b[1m1s\u001b[0m 515ms/step - accuracy: 0.1519 - loss: 1.7918\n",
            "Epoch 20: val_accuracy did not improve from 0.19833\n",
            "\u001b[1m61/61\u001b[0m \u001b[32m━━━━━━━━━━━━━━━━━━━━\u001b[0m\u001b[37m\u001b[0m \u001b[1m39s\u001b[0m 584ms/step - accuracy: 0.1518 - loss: 1.7918 - val_accuracy: 0.1667 - val_loss: 1.7918\n",
            "Training completed in 835.52 seconds with 4 intra-op threads and 2 inter-op threads.\n",
            "\u001b[1m61/61\u001b[0m \u001b[32m━━━━━━━━━━━━━━━━━━━━\u001b[0m\u001b[37m\u001b[0m \u001b[1m34s\u001b[0m 563ms/step - accuracy: 0.1649 - loss: 1.7918\n",
            "\u001b[1m10/10\u001b[0m \u001b[32m━━━━━━━━━━━━━━━━━━━━\u001b[0m\u001b[37m\u001b[0m \u001b[1m3s\u001b[0m 284ms/step - accuracy: 0.1739 - loss: 1.7917\n"
          ]
        },
        {
          "output_type": "stream",
          "name": "stderr",
          "text": [
            "WARNING:absl:You are saving your model as an HDF5 file via `model.save()` or `keras.saving.save_model(model)`. This file format is considered legacy. We recommend using instead the native Keras format, e.g. `model.save('my_model.keras')` or `keras.saving.save_model(model, 'my_model.keras')`. \n",
            "WARNING:absl:You are saving your model as an HDF5 file via `model.save()` or `keras.saving.save_model(model)`. This file format is considered legacy. We recommend using instead the native Keras format, e.g. `model.save('my_model.keras')` or `keras.saving.save_model(model, 'my_model.keras')`. \n"
          ]
        },
        {
          "output_type": "display_data",
          "data": {
            "text/plain": [
              "<IPython.core.display.Javascript object>"
            ],
            "application/javascript": [
              "\n",
              "    async function download(id, filename, size) {\n",
              "      if (!google.colab.kernel.accessAllowed) {\n",
              "        return;\n",
              "      }\n",
              "      const div = document.createElement('div');\n",
              "      const label = document.createElement('label');\n",
              "      label.textContent = `Downloading \"${filename}\": `;\n",
              "      div.appendChild(label);\n",
              "      const progress = document.createElement('progress');\n",
              "      progress.max = size;\n",
              "      div.appendChild(progress);\n",
              "      document.body.appendChild(div);\n",
              "\n",
              "      const buffers = [];\n",
              "      let downloaded = 0;\n",
              "\n",
              "      const channel = await google.colab.kernel.comms.open(id);\n",
              "      // Send a message to notify the kernel that we're ready.\n",
              "      channel.send({})\n",
              "\n",
              "      for await (const message of channel.messages) {\n",
              "        // Send a message to notify the kernel that we're ready.\n",
              "        channel.send({})\n",
              "        if (message.buffers) {\n",
              "          for (const buffer of message.buffers) {\n",
              "            buffers.push(buffer);\n",
              "            downloaded += buffer.byteLength;\n",
              "            progress.value = downloaded;\n",
              "          }\n",
              "        }\n",
              "      }\n",
              "      const blob = new Blob(buffers, {type: 'application/binary'});\n",
              "      const a = document.createElement('a');\n",
              "      a.href = window.URL.createObjectURL(blob);\n",
              "      a.download = filename;\n",
              "      div.appendChild(a);\n",
              "      a.click();\n",
              "      div.remove();\n",
              "    }\n",
              "  "
            ]
          },
          "metadata": {}
        },
        {
          "output_type": "display_data",
          "data": {
            "text/plain": [
              "<IPython.core.display.Javascript object>"
            ],
            "application/javascript": [
              "download(\"download_13aef392-4c09-49cf-ad55-5aa5aac3d1b0\", \"papaya_disease_prediction_serial.h5\", 304015624)"
            ]
          },
          "metadata": {}
        },
        {
          "output_type": "display_data",
          "data": {
            "text/plain": [
              "<IPython.core.display.Javascript object>"
            ],
            "application/javascript": [
              "\n",
              "    async function download(id, filename, size) {\n",
              "      if (!google.colab.kernel.accessAllowed) {\n",
              "        return;\n",
              "      }\n",
              "      const div = document.createElement('div');\n",
              "      const label = document.createElement('label');\n",
              "      label.textContent = `Downloading \"${filename}\": `;\n",
              "      div.appendChild(label);\n",
              "      const progress = document.createElement('progress');\n",
              "      progress.max = size;\n",
              "      div.appendChild(progress);\n",
              "      document.body.appendChild(div);\n",
              "\n",
              "      const buffers = [];\n",
              "      let downloaded = 0;\n",
              "\n",
              "      const channel = await google.colab.kernel.comms.open(id);\n",
              "      // Send a message to notify the kernel that we're ready.\n",
              "      channel.send({})\n",
              "\n",
              "      for await (const message of channel.messages) {\n",
              "        // Send a message to notify the kernel that we're ready.\n",
              "        channel.send({})\n",
              "        if (message.buffers) {\n",
              "          for (const buffer of message.buffers) {\n",
              "            buffers.push(buffer);\n",
              "            downloaded += buffer.byteLength;\n",
              "            progress.value = downloaded;\n",
              "          }\n",
              "        }\n",
              "      }\n",
              "      const blob = new Blob(buffers, {type: 'application/binary'});\n",
              "      const a = document.createElement('a');\n",
              "      a.href = window.URL.createObjectURL(blob);\n",
              "      a.download = filename;\n",
              "      div.appendChild(a);\n",
              "      a.click();\n",
              "      div.remove();\n",
              "    }\n",
              "  "
            ]
          },
          "metadata": {}
        },
        {
          "output_type": "display_data",
          "data": {
            "text/plain": [
              "<IPython.core.display.Javascript object>"
            ],
            "application/javascript": [
              "download(\"download_3596866a-ea29-4785-9d36-a85dbedda989\", \"papaya_disease_prediction_parallel.h5\", 304015624)"
            ]
          },
          "metadata": {}
        },
        {
          "output_type": "display_data",
          "data": {
            "text/plain": [
              "<IPython.core.display.Javascript object>"
            ],
            "application/javascript": [
              "\n",
              "    async function download(id, filename, size) {\n",
              "      if (!google.colab.kernel.accessAllowed) {\n",
              "        return;\n",
              "      }\n",
              "      const div = document.createElement('div');\n",
              "      const label = document.createElement('label');\n",
              "      label.textContent = `Downloading \"${filename}\": `;\n",
              "      div.appendChild(label);\n",
              "      const progress = document.createElement('progress');\n",
              "      progress.max = size;\n",
              "      div.appendChild(progress);\n",
              "      document.body.appendChild(div);\n",
              "\n",
              "      const buffers = [];\n",
              "      let downloaded = 0;\n",
              "\n",
              "      const channel = await google.colab.kernel.comms.open(id);\n",
              "      // Send a message to notify the kernel that we're ready.\n",
              "      channel.send({})\n",
              "\n",
              "      for await (const message of channel.messages) {\n",
              "        // Send a message to notify the kernel that we're ready.\n",
              "        channel.send({})\n",
              "        if (message.buffers) {\n",
              "          for (const buffer of message.buffers) {\n",
              "            buffers.push(buffer);\n",
              "            downloaded += buffer.byteLength;\n",
              "            progress.value = downloaded;\n",
              "          }\n",
              "        }\n",
              "      }\n",
              "      const blob = new Blob(buffers, {type: 'application/binary'});\n",
              "      const a = document.createElement('a');\n",
              "      a.href = window.URL.createObjectURL(blob);\n",
              "      a.download = filename;\n",
              "      div.appendChild(a);\n",
              "      a.click();\n",
              "      div.remove();\n",
              "    }\n",
              "  "
            ]
          },
          "metadata": {}
        },
        {
          "output_type": "display_data",
          "data": {
            "text/plain": [
              "<IPython.core.display.Javascript object>"
            ],
            "application/javascript": [
              "download(\"download_ae80f076-11b9-46fc-84bd-31bb378a5128\", \"model_serial.keras\", 304009638)"
            ]
          },
          "metadata": {}
        },
        {
          "output_type": "display_data",
          "data": {
            "text/plain": [
              "<IPython.core.display.Javascript object>"
            ],
            "application/javascript": [
              "\n",
              "    async function download(id, filename, size) {\n",
              "      if (!google.colab.kernel.accessAllowed) {\n",
              "        return;\n",
              "      }\n",
              "      const div = document.createElement('div');\n",
              "      const label = document.createElement('label');\n",
              "      label.textContent = `Downloading \"${filename}\": `;\n",
              "      div.appendChild(label);\n",
              "      const progress = document.createElement('progress');\n",
              "      progress.max = size;\n",
              "      div.appendChild(progress);\n",
              "      document.body.appendChild(div);\n",
              "\n",
              "      const buffers = [];\n",
              "      let downloaded = 0;\n",
              "\n",
              "      const channel = await google.colab.kernel.comms.open(id);\n",
              "      // Send a message to notify the kernel that we're ready.\n",
              "      channel.send({})\n",
              "\n",
              "      for await (const message of channel.messages) {\n",
              "        // Send a message to notify the kernel that we're ready.\n",
              "        channel.send({})\n",
              "        if (message.buffers) {\n",
              "          for (const buffer of message.buffers) {\n",
              "            buffers.push(buffer);\n",
              "            downloaded += buffer.byteLength;\n",
              "            progress.value = downloaded;\n",
              "          }\n",
              "        }\n",
              "      }\n",
              "      const blob = new Blob(buffers, {type: 'application/binary'});\n",
              "      const a = document.createElement('a');\n",
              "      a.href = window.URL.createObjectURL(blob);\n",
              "      a.download = filename;\n",
              "      div.appendChild(a);\n",
              "      a.click();\n",
              "      div.remove();\n",
              "    }\n",
              "  "
            ]
          },
          "metadata": {}
        },
        {
          "output_type": "display_data",
          "data": {
            "text/plain": [
              "<IPython.core.display.Javascript object>"
            ],
            "application/javascript": [
              "download(\"download_f2e419cd-33b4-4cbc-9d7c-00ef5f587a42\", \"model_parallel.keras\", 304009638)"
            ]
          },
          "metadata": {}
        },
        {
          "output_type": "stream",
          "name": "stdout",
          "text": [
            "\n",
            "Time taken in 'serial' configuration: 1326.76 seconds\n",
            "\n",
            "Time taken in 'parallel' configuration: 835.52 seconds\n",
            "Parallel execution was faster than serial execution.\n",
            "\n",
            "Speedup: 1.59x\n",
            "Efficiency: 79.40%\n"
          ]
        }
      ]
    },
    {
      "cell_type": "markdown",
      "source": [
        "Calculate speedup and efficiency, then plot serial vs parallel execution time and their corresponding speedup and efficiency values using bar charts.\n"
      ],
      "metadata": {
        "id": "UbNX5IzMtxIJ"
      }
    },
    {
      "cell_type": "code",
      "source": [
        "import matplotlib.pyplot as plt\n",
        "\n",
        "# Plot speedup and efficiency\n",
        "speedup = serial_time / parallel_time\n",
        "efficiency = speedup / 2\n",
        "\n",
        "# Speedup plot\n",
        "plt.figure(figsize=(10, 5))\n",
        "plt.bar(['Serial Time', 'Parallel Time'], [serial_time, parallel_time], color=['blue', 'orange'])\n",
        "plt.ylabel(\"Time (seconds)\")\n",
        "plt.title(\"Serial vs Parallel Execution Time\")\n",
        "plt.show()\n",
        "\n",
        "# Speedup and efficiency plot\n",
        "plt.figure(figsize=(10, 5))\n",
        "plt.bar(['Speedup', 'Efficiency'], [speedup, efficiency], color=['purple', 'green'])\n",
        "plt.ylabel(\"Value\")\n",
        "plt.title(\"Speedup and Efficiency of Parallel Execution\")\n",
        "plt.show()\n"
      ],
      "metadata": {
        "colab": {
          "base_uri": "https://localhost:8080/",
          "height": 919
        },
        "id": "9p4mu7f4r2nP",
        "outputId": "4b2ec448-82a3-46e8-98da-f85bea41f43b"
      },
      "execution_count": null,
      "outputs": [
        {
          "output_type": "display_data",
          "data": {
            "text/plain": [
              "<Figure size 1000x500 with 1 Axes>"
            ],
            "image/png": "[encoded data removed]"
          },
          "metadata": {}
        },
        {
          "output_type": "display_data",
          "data": {
            "text/plain": [
              "<Figure size 1000x500 with 1 Axes>"
            ],
            "image/png": "[encoded data removed]"
          },
          "metadata": {}
        }
      ]
    },
    {
      "cell_type": "markdown",
      "source": [
        "Plot speedup and efficiency of parallel execution based on varying input sizes (number of images) and display the results using a line chart.\n"
      ],
      "metadata": {
        "id": "NVRoQs_vuJD_"
      }
    },
    {
      "cell_type": "code",
      "source": [
        "import matplotlib.pyplot as plt\n",
        "import numpy as np\n",
        "\n",
        "# Example data: number of images as input sizes\n",
        "input_sizes = np.array([1, 2, 4, 8, 16, 32, 64])  # Number of images\n",
        "\n",
        "parallel_times = serial_time / (input_sizes / 4)  # Example parallel execution times based on input sizes\n",
        "\n",
        "# Calculate speedup and efficiency\n",
        "speedup = serial_time / parallel_times\n",
        "efficiency = speedup / 2  # Assuming 2 processors\n",
        "\n",
        "# Speedup and efficiency plot\n",
        "plt.figure(figsize=(12, 6))\n",
        "plt.plot(input_sizes, speedup, marker='o', label='Speedup', color='purple')\n",
        "plt.plot(input_sizes, efficiency, marker='o', label='Efficiency', color='green')\n",
        "\n",
        "plt.xlabel(\"Number of Images\")\n",
        "plt.ylabel(\"Value\")\n",
        "plt.title(\"Speedup and Efficiency of Parallel Execution\")\n",
        "plt.xticks(input_sizes)  # Set x-ticks to be the input sizes\n",
        "plt.legend()\n",
        "plt.grid(True)\n",
        "plt.show()\n"
      ],
      "metadata": {
        "colab": {
          "base_uri": "https://localhost:8080/",
          "height": 564
        },
        "id": "3INE_DP1F3Kt",
        "outputId": "09857602-9b15-4f12-d297-82e68e24c77a"
      },
      "execution_count": null,
      "outputs": [
        {
          "output_type": "display_data",
          "data": {
            "text/plain": [
              "<Figure size 1200x600 with 1 Axes>"
            ],
            "image/png": "[encoded data removed]"
          },
          "metadata": {}
        }
      ]
    }
  ]
}